{
 "cells": [
  {
   "cell_type": "code",
   "execution_count": null,
   "metadata": {},
   "outputs": [],
   "source": [
    "%matplotlib inline\n",
    "%load_ext autoreload\n",
    "%autoreload 2\n",
    "import os.path as op\n",
    "import numpy as np\n",
    "import pandas as pd\n",
    "from mriqc.viz.misc import (\n",
    "    raters_variability_plot, plot_abide_stripplots, plot_corrmat, plot_histograms, figure1\n",
    ")\n",
    "from pkg_resources import resource_filename as pkgrf\n",
    "from mriqc.classifier.data import read_dataset, zscore_dataset\n",
    "import matplotlib.pyplot as plt\n",
    "from matplotlib.gridspec import GridSpec\n",
    "import seaborn as sn\n",
    "sn.set(style=\"whitegrid\")\n",
    "\n",
    "data_path = '/home/oesteban/Google Drive/mriqc'"
   ]
  },
  {
   "cell_type": "code",
   "execution_count": null,
   "metadata": {
    "collapsed": true
   },
   "outputs": [],
   "source": [
    "mit_csv = '/home/oesteban/mriqc/mit-satra/T1-mit.csv'\n",
    "abide_csv = op.join(data_path, 'runs/20170505_0.9.3-2017-04-23-2ba2c2e40c39/T1w.csv')\n"
   ]
  },
  {
   "cell_type": "code",
   "execution_count": null,
   "metadata": {},
   "outputs": [],
   "source": [
    "mit_df = pd.read_csv(mit_csv, index_col=False, dtype={'subject_id': object})\n",
    "abide_df, pp_cols = read_dataset(abide_csv, op.join(data_path, 'ABIDE_QC_all.csv'), rate_label='rater_1')"
   ]
  },
  {
   "cell_type": "code",
   "execution_count": null,
   "metadata": {
    "collapsed": true
   },
   "outputs": [],
   "source": [
    "mit_df['rater'] = [1] * len(mit_df)\n",
    "mit_df['site'] = ['MIT'] * len(mit_df)\n",
    "abide_df['rater'] = [0] * len(abide_df)\n",
    "\n",
    "del abide_df['rater_1']\n",
    "mdata = pd.concat([abide_df, mit_df], axis=0)\n"
   ]
  },
  {
   "cell_type": "code",
   "execution_count": null,
   "metadata": {},
   "outputs": [],
   "source": [
    "\n",
    "zscored = zscore_dataset(\n",
    "        mdata, excl_columns=['rater', 'size_x', 'size_y', 'size_z',\n",
    "                             'spacing_x', 'spacing_y', 'spacing_z'])\n",
    "\n",
    "colnames = [col for col in sorted(pp_cols)\n",
    "            if not (col.startswith('spacing') or col.startswith('summary') or col.startswith('size'))]\n",
    "\n",
    "nrows = len(colnames)\n",
    "# palette = ['dodgerblue', 'darkorange']\n",
    "\n",
    "fig = plt.figure(figsize=(18, 2 * nrows))\n",
    "gs = GridSpec(nrows, 2, hspace=0.2)\n",
    "\n",
    "for i, col in enumerate(sorted(colnames)):\n",
    "    ax_nzs = plt.subplot(gs[i, 0])\n",
    "    ax_zsd = plt.subplot(gs[i, 1])\n",
    "\n",
    "    sn.distplot(mdata.loc[(mdata.rater == 0), col], norm_hist=False,\n",
    "                label='ABIDE', ax=ax_nzs, color='dodgerblue')\n",
    "    sn.distplot(mdata.loc[(mdata.rater == 1), col], norm_hist=False,\n",
    "                label='MIT', ax=ax_nzs, color='darkorange')\n",
    "    ax_nzs.legend()\n",
    "\n",
    "    sn.distplot(zscored.loc[(zscored.rater == 0), col], norm_hist=False,\n",
    "                label='ABIDE', ax=ax_zsd, color='dodgerblue')\n",
    "    sn.distplot(zscored.loc[(zscored.rater == 1), col], norm_hist=False,\n",
    "                label='MIT', ax=ax_zsd, color='darkorange')\n",
    "\n",
    "    alldata = mdata[[col]].values.ravel().tolist()\n",
    "    minv = np.percentile(alldata, 0.2)\n",
    "    maxv = np.percentile(alldata, 99.8)\n",
    "    ax_nzs.set_xlim([minv, maxv])\n",
    "\n",
    "    alldata = zscored[[col]].values.ravel().tolist()\n",
    "    minv = np.percentile(alldata, 0.2)\n",
    "    maxv = np.percentile(alldata, 99.8)\n",
    "    ax_zsd.set_xlim([minv, maxv])\n",
    "    \n",
    "    ax_zsd.set_ylabel(col)\n",
    "fig.savefig('/home/oesteban/tmp/mriqc-ml-tests-2/histograms-mit.svg', format='svg', pad_inches=0, dpi=100)\n"
   ]
  },
  {
   "cell_type": "code",
   "execution_count": null,
   "metadata": {},
   "outputs": [],
   "source": [
    "abide_df, pp_cols = read_dataset(abide_csv, op.join(data_path, 'ABIDE_QC_all.csv'), rate_label='rater_1')"
   ]
  },
  {
   "cell_type": "code",
   "execution_count": null,
   "metadata": {
    "collapsed": true
   },
   "outputs": [],
   "source": [
    "accept = abide_df[abide_df.rater_1 == 0]\n",
    "exclude = abide_df[abide_df.rater_1 == 1]"
   ]
  },
  {
   "cell_type": "code",
   "execution_count": null,
   "metadata": {},
   "outputs": [],
   "source": [
    "mit_df = pd.read_csv(mit_csv, index_col=False, dtype={'subject_id': object})\n",
    "\n",
    "means = {}\n",
    "for i, col in enumerate(sorted(colnames)):\n",
    "    means[col] = np.median(accept[[col]].values)\n",
    "    mit_copy = mit_df.copy()\n",
    "    mit_copy[[col]] = [means[col]] * len(mit_copy)\n",
    "    \n",
    "    mit_copy.to_csv('/home/oesteban/tmp/mriqc-ml-tests-2/mit_t1_%s.csv' % col, index=False)\n",
    "    \n",
    "    bad_m = np.median(exclude[[col]].values)\n",
    "    print('%s: %f +- %f :: %f +- %f' % (col, means[col], accept[[col]].std(), bad_m, exclude[[col]].std()))"
   ]
  },
  {
   "cell_type": "code",
   "execution_count": null,
   "metadata": {
    "collapsed": true
   },
   "outputs": [],
   "source": [
    "pred = pd.read_csv('/home/oesteban/tmp/mriqc-ml-tests-2/predicted_orig.csv', index_col=False)"
   ]
  },
  {
   "cell_type": "code",
   "execution_count": null,
   "metadata": {
    "collapsed": true
   },
   "outputs": [],
   "source": [
    "for i, col in enumerate(sorted(colnames)):\n",
    "    pred[col] = pd.read_csv('/home/oesteban/tmp/mriqc-ml-tests-2/predicted_mit_t1_%s.csv' % col).prediction.values"
   ]
  },
  {
   "cell_type": "code",
   "execution_count": null,
   "metadata": {
    "collapsed": true
   },
   "outputs": [],
   "source": [
    "pred.to_csv('/home/oesteban/tmp/mriqc-ml-tests-2/predictions_wrt_iqms.csv', index=False)"
   ]
  },
  {
   "cell_type": "code",
   "execution_count": null,
   "metadata": {},
   "outputs": [],
   "source": [
    "pred.describe()"
   ]
  },
  {
   "cell_type": "code",
   "execution_count": null,
   "metadata": {
    "collapsed": true
   },
   "outputs": [],
   "source": []
  }
 ],
 "metadata": {
  "kernelspec": {
   "display_name": "Python 3",
   "language": "python",
   "name": "python3"
  },
  "language_info": {
   "codemirror_mode": {
    "name": "ipython",
    "version": 3
   },
   "file_extension": ".py",
   "mimetype": "text/x-python",
   "name": "python",
   "nbconvert_exporter": "python",
   "pygments_lexer": "ipython3",
   "version": "3.5.2"
  }
 },
 "nbformat": 4,
 "nbformat_minor": 2
}
